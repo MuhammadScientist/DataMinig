{
 "cells": [
  {
   "cell_type": "markdown",
   "metadata": {},
   "source": [
    "# Analysis of Correlation and Chi-Square\n",
    "### Topic: Linear Relationship Between Variables\n",
    "#### Date: Aug 15, 2024\n",
    "\n",
    "---\n"
   ]
  },
  {
   "cell_type": "markdown",
   "metadata": {},
   "source": [
    "### Correlation: A Measure of Linear Relationship\n",
    "\n",
    "A measure of the linear relationship between two quantitative variables (e.g., height and weight).  \n",
    "- A correlation of **1** indicates a perfect positive correlation.  \n",
    "- A correlation of **-1** indicates a perfect negative correlation.  \n",
    "- A correlation of **0** indicates that there is no relationship between the different variables.  \n",
    "\n",
    "Values between **-1** and **1** denote the strength of the correlation, as shown in the example below.  \n"
   ]
  },
  {
   "cell_type": "markdown",
   "metadata": {},
   "source": [
    "## How to Find the Correlation?\n",
    "\n",
    "The correlation coefficient that indicates the strength of the relationship between two variables can be found using the following formula:\n",
    "\n",
    "### Formula:\n",
    "**r<sub>xy</sub> = ( Σ (x<sub>i</sub> - x̄)(y<sub>i</sub> - ȳ) ) / ( √( Σ (x<sub>i</sub> - x̄)² ) √( Σ (y<sub>i</sub> - ȳ)² ) )**\n",
    "\n",
    "---\n",
    "\n",
    "### Where:\n",
    "- **r<sub>xy</sub>** – The correlation coefficient of the linear relationship between the variables x and y.  \n",
    "- **x<sub>i</sub>** – The values of the x-variable in a sample.  \n",
    "- **x̄** – The mean of the values of the x-variable.  \n",
    "- **y<sub>i</sub>** – The values of the y-variable in a sample.  \n",
    "- **ȳ** – The mean of the values of the y-variable.  \n"
   ]
  },
  {
   "cell_type": "markdown",
   "metadata": {},
   "source": [
    "## Example 1: Correlation Between Sale of Tea Bags and Sugar\n",
    "\n",
    "A storekeeper has data of the previous ten years of sales of tea bags and sugar. The storekeeper wants to find out whether the sale of tea bags has any effect on the sale of sugar or not.\n",
    "\n",
    "---\n",
    "\n",
    "### Data:\n",
    "\n",
    "| Year | Sugar (x<sub>i</sub>) | Tea Bags (y<sub>i</sub>) | (x<sub>i</sub> - x̄) | (y<sub>i</sub> - ȳ) | (x<sub>i</sub> - x̄)(y<sub>i</sub> - ȳ) | (x<sub>i</sub> - x̄)² | (y<sub>i</sub> - ȳ)² |\n",
    "|------|------------------------|--------------------------|-----------------------|---------------------|-----------------------------------------|-----------------------|---------------------|\n",
    "| 2009 | 1692                  | 69                       | -353.3               | -38.9              | 13743.37                               | 124820.9             | 1513.21            |\n",
    "| 2010 | 1978                  | 101                      | -67.3                | -6.9               | 464.37                                 | 4529.29              | 47.61              |\n",
    "| 2011 | 1884                  | 109                      | -161.3               | 1.1                | -177.43                                | 26017.69             | 1.21               |\n",
    "| 2012 | 2151                  | 112                      | 105.7                | 4.1                | 433.37                                 | 11172.49             | 16.81              |\n",
    "| 2013 | 2519                  | 154                      | 473.7                | 46.1               | 21837.57                               | 224391.7             | 2125.21            |\n",
    "| 2014 | 1732                  | 96                       | -313.3               | -11.9              | 3728.27                                | 98156.89             | 141.61             |\n",
    "| 2015 | 1535                  | 57                       | -510.3               | -50.9              | 25974.27                               | 260406.1             | 2590.81            |\n",
    "| 2016 | 2731                  | 162                      | 685.7                | 54.1               | 37096.37                               | 470184.5             | 2926.81            |\n",
    "| 2017 | 2911                  | 171                      | 865.7                | 63.1               | 54625.67                               | 749436.5             | 3981.61            |\n",
    "| 2018 | 1320                  | 48                       | -725.3               | -59.9              | 43445.47                               | 526060.1             | 3588.01            |\n",
    "\n",
    "---\n",
    "\n",
    "### Summary:\n",
    "- Mean of Sugar (x̄): **2045.3**\n",
    "- Mean of Tea Bags (ȳ): **107.9**\n",
    "- ∑(x<sub>i</sub> - x̄)(y<sub>i</sub> - ȳ): **201171.3**\n",
    "- ∑(x<sub>i</sub> - x̄)²∑(y<sub>i</sub> - ȳ)²: **42250565690**\n",
    "- √(∑(x<sub>i</sub> - x̄)²∑(y<sub>i</sub> - ȳ)²): **205549.424**\n",
    "\n",
    "---\n",
    "\n",
    "### Correlation Coefficient:\n",
    "\\[\n",
    "r<sub>xy</sub> = \\frac{201171.3}{205549.424} = 0.97\n",
    "\\]\n",
    "\n",
    "---\n",
    "\n",
    "### Interpretation:\n",
    "The calculated value of **r<sub>xy</sub> = 0.97** is close to **+1**. Hence, there exists a **positive correlation** between the sale of tea bags and sugar. This implies that the sale of tea bags ultimately results in an increase in the sale of sugar.\n"
   ]
  },
  {
   "cell_type": "code",
   "execution_count": 1,
   "metadata": {},
   "outputs": [
    {
     "data": {
      "text/html": [
       "<div>\n",
       "<style scoped>\n",
       "    .dataframe tbody tr th:only-of-type {\n",
       "        vertical-align: middle;\n",
       "    }\n",
       "\n",
       "    .dataframe tbody tr th {\n",
       "        vertical-align: top;\n",
       "    }\n",
       "\n",
       "    .dataframe thead th {\n",
       "        text-align: right;\n",
       "    }\n",
       "</style>\n",
       "<table border=\"1\" class=\"dataframe\">\n",
       "  <thead>\n",
       "    <tr style=\"text-align: right;\">\n",
       "      <th></th>\n",
       "      <th>Year</th>\n",
       "      <th>Sugar (xi)</th>\n",
       "      <th>Tea Bags (yi)</th>\n",
       "    </tr>\n",
       "  </thead>\n",
       "  <tbody>\n",
       "    <tr>\n",
       "      <th>0</th>\n",
       "      <td>2009</td>\n",
       "      <td>1692</td>\n",
       "      <td>69</td>\n",
       "    </tr>\n",
       "    <tr>\n",
       "      <th>1</th>\n",
       "      <td>2010</td>\n",
       "      <td>1978</td>\n",
       "      <td>101</td>\n",
       "    </tr>\n",
       "    <tr>\n",
       "      <th>2</th>\n",
       "      <td>2011</td>\n",
       "      <td>1884</td>\n",
       "      <td>109</td>\n",
       "    </tr>\n",
       "    <tr>\n",
       "      <th>3</th>\n",
       "      <td>2012</td>\n",
       "      <td>2151</td>\n",
       "      <td>112</td>\n",
       "    </tr>\n",
       "    <tr>\n",
       "      <th>4</th>\n",
       "      <td>2013</td>\n",
       "      <td>2519</td>\n",
       "      <td>154</td>\n",
       "    </tr>\n",
       "    <tr>\n",
       "      <th>5</th>\n",
       "      <td>2014</td>\n",
       "      <td>1732</td>\n",
       "      <td>96</td>\n",
       "    </tr>\n",
       "    <tr>\n",
       "      <th>6</th>\n",
       "      <td>2015</td>\n",
       "      <td>1535</td>\n",
       "      <td>57</td>\n",
       "    </tr>\n",
       "    <tr>\n",
       "      <th>7</th>\n",
       "      <td>2016</td>\n",
       "      <td>2731</td>\n",
       "      <td>162</td>\n",
       "    </tr>\n",
       "    <tr>\n",
       "      <th>8</th>\n",
       "      <td>2017</td>\n",
       "      <td>2911</td>\n",
       "      <td>171</td>\n",
       "    </tr>\n",
       "    <tr>\n",
       "      <th>9</th>\n",
       "      <td>2018</td>\n",
       "      <td>1320</td>\n",
       "      <td>48</td>\n",
       "    </tr>\n",
       "  </tbody>\n",
       "</table>\n",
       "</div>"
      ],
      "text/plain": [
       "   Year  Sugar (xi)  Tea Bags (yi)\n",
       "0  2009        1692             69\n",
       "1  2010        1978            101\n",
       "2  2011        1884            109\n",
       "3  2012        2151            112\n",
       "4  2013        2519            154\n",
       "5  2014        1732             96\n",
       "6  2015        1535             57\n",
       "7  2016        2731            162\n",
       "8  2017        2911            171\n",
       "9  2018        1320             48"
      ]
     },
     "execution_count": 1,
     "metadata": {},
     "output_type": "execute_result"
    }
   ],
   "source": [
    "import pandas as pd\n",
    "import numpy as np\n",
    "import matplotlib.pyplot as plt\n",
    "from scipy.stats import pearsonr\n",
    "\n",
    "# Make a dataframe used the python libraries.\n",
    "data = {\n",
    "    'Year': [2009, 2010, 2011, 2012, 2013, 2014, 2015, 2016, 2017, 2018],\n",
    "    'Sugar (xi)': [1692, 1978, 1884, 2151, 2519, 1732, 1535, 2731, 2911, 1320],\n",
    "    'Tea Bags (yi)': [69, 101, 109, 112, 154, 96, 57, 162, 171, 48]\n",
    "}\n",
    "df = pd.DataFrame(data)\n",
    "df"
   ]
  },
  {
   "cell_type": "code",
   "execution_count": 2,
   "metadata": {},
   "outputs": [
    {
     "name": "stdout",
     "output_type": "stream",
     "text": [
      "   Year  Sugar (xi)  Tea Bags (yi)  (xi - x)  (yi - ȳ)  (xi - x)(yi - ȳ)  \\\n",
      "0  2009        1692             69    -353.3     -38.9          13743.37   \n",
      "1  2010        1978            101     -67.3      -6.9            464.37   \n",
      "2  2011        1884            109    -161.3       1.1           -177.43   \n",
      "3  2012        2151            112     105.7       4.1            433.37   \n",
      "4  2013        2519            154     473.7      46.1          21837.57   \n",
      "5  2014        1732             96    -313.3     -11.9           3728.27   \n",
      "6  2015        1535             57    -510.3     -50.9          25974.27   \n",
      "7  2016        2731            162     685.7      54.1          37096.37   \n",
      "8  2017        2911            171     865.7      63.1          54625.67   \n",
      "9  2018        1320             48    -725.3     -59.9          43445.47   \n",
      "\n",
      "   (xi - x)²  (yi - ȳ)²  \n",
      "0  124820.89    1513.21  \n",
      "1    4529.29      47.61  \n",
      "2   26017.69       1.21  \n",
      "3   11172.49      16.81  \n",
      "4  224391.69    2125.21  \n",
      "5   98156.89     141.61  \n",
      "6  260406.09    2590.81  \n",
      "7  470184.49    2926.81  \n",
      "8  749436.49    3981.61  \n",
      "9  526060.09    3588.01  \n",
      "\n",
      "Pearson Correlation Coefficient (rxy): 0.9787003636053802\n"
     ]
    }
   ],
   "source": [
    "# Calculate the mean of Sugar and Tea Bags by using the formula nad library\n",
    "mean_sugar = df['Sugar (xi)'].mean()\n",
    "mean_tea_bags = df['Tea Bags (yi)'].mean()\n",
    "\n",
    "# Calculate (xi - x) and (yi - ȳ)\n",
    "df['(xi - x)'] = df['Sugar (xi)'] - mean_sugar\n",
    "df['(yi - ȳ)'] = df['Tea Bags (yi)'] - mean_tea_bags\n",
    "\n",
    "# Calculate (xi - x)(yi - ȳ) \n",
    "df['(xi - x)(yi - ȳ)'] = df['(xi - x)'] * df['(yi - ȳ)']\n",
    "\n",
    "# Calculate (xi - x)² and (yi - ȳ)²\n",
    "df['(xi - x)²'] = df['(xi - x)'] ** 2\n",
    "df['(yi - ȳ)²'] = df['(yi - ȳ)'] ** 2\n",
    "\n",
    "# Calculate the sum of (xi - x)² and (yi - ȳ)²\n",
    "sum_xi_x_squared = df['(xi - x)²'].sum()\n",
    "sum_yi_y_squared = df['(yi - ȳ)²'].sum()\n",
    "\n",
    "# Calculate rxy (Pearson correlation coefficient)\n",
    "rxy = df['(xi - x)(yi - ȳ)'].sum() / (sum_xi_x_squared ** 0.5 * sum_yi_y_squared ** 0.5)\n",
    "\n",
    "# Output the DataFrame and correlation result\n",
    "print(df)\n",
    "print(f\"\\nPearson Correlation Coefficient (rxy): {rxy}\")"
   ]
  },
  {
   "cell_type": "code",
   "execution_count": 3,
   "metadata": {},
   "outputs": [
    {
     "name": "stdout",
     "output_type": "stream",
     "text": [
      "corelation of dataset 0.9787003636053799\n"
     ]
    }
   ],
   "source": [
    "# Calculate Pearson correlation coefficient with library\n",
    "correlation, _ = pearsonr(df['Sugar (xi)'], df['Tea Bags (yi)'])\n",
    "print(\"corelation of dataset\" , correlation)"
   ]
  },
  {
   "cell_type": "code",
   "execution_count": 4,
   "metadata": {},
   "outputs": [
    {
     "data": {
      "image/png": "[encoded data removed]",
      "text/plain": [
       "<Figure size 640x480 with 1 Axes>"
      ]
     },
     "metadata": {},
     "output_type": "display_data"
    }
   ],
   "source": [
    "# Show in the Graph\n",
    "\n",
    "plt.scatter(df['Sugar (xi)'], df['Tea Bags (yi)'], color='red')\n",
    "\n",
    "# Set the title and labels for the axes\n",
    "plt.title('Correlation Between Sugar and Tea Bags')\n",
    "plt.xlabel('Sugar (xi)')\n",
    "plt.ylabel('Tea Bags (yi)')\n",
    "\n",
    "# Show the plot\n",
    "plt.show()"
   ]
  },
  {
   "cell_type": "markdown",
   "metadata": {},
   "source": [
    "<p>Calculated value is close to +1. Hence, there exists a positive correlation between the sale of tea bags and sugar.</p>\n",
    "<p>So, sale of tea bags ultimate results in increasing sale of sugar.</p>\n"
   ]
  }
 ],
 "metadata": {
  "kernelspec": {
   "display_name": "Python 3",
   "language": "python",
   "name": "python3"
  },
  "language_info": {
   "codemirror_mode": {
    "name": "ipython",
    "version": 3
   },
   "file_extension": ".py",
   "mimetype": "text/x-python",
   "name": "python",
   "nbconvert_exporter": "python",
   "pygments_lexer": "ipython3",
   "version": "3.12.1"
  }
 },
 "nbformat": 4,
 "nbformat_minor": 2
}
